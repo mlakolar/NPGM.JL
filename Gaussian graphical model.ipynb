{
 "cells": [
  {
   "cell_type": "markdown",
   "metadata": {},
   "source": [
    "# Estimating GGM using Score Matching"
   ]
  },
  {
   "cell_type": "code",
   "execution_count": 1,
   "metadata": {
    "collapsed": false
   },
   "outputs": [],
   "source": [
    "import HD, NPGM\n",
    "# reload(\"HD\")\n",
    "# reload(\"NPGM\")"
   ]
  },
  {
   "cell_type": "markdown",
   "metadata": {},
   "source": [
    "Generate Gaussian data from which we will be learning the structure. The covariance is a Toeplitz matrix, that is, $\\Sigma = (\\sigma_{ab})$ with $\\sigma_{ab} = \\rho^{|a-b|}$."
   ]
  },
  {
   "cell_type": "code",
   "execution_count": 2,
   "metadata": {
    "collapsed": false
   },
   "outputs": [
    {
     "data": {
      "text/plain": [
       "gen_data_chain (generic function with 1 method)"
      ]
     },
     "execution_count": 2,
     "metadata": {},
     "output_type": "execute_result"
    }
   ],
   "source": [
    "function gen_data_chain(n::Int64, p::Int64, rho::Float64; zero_thr=1e-4)\n",
    "\n",
    "    Sigma = zeros(Float64, p, p)\n",
    "    for a=1:p\n",
    "        for b=1:p\n",
    "            Sigma[a,b] = rho^abs(a-b)\n",
    "        end\n",
    "    end\n",
    "    Theta = inv(Sigma)\n",
    "    Theta[find(abs(Theta) .< zero_thr)] = 0.\n",
    "    \n",
    "    X = randn(n, p) * sqrtm(Sigma), Sigma, Theta\n",
    "end"
   ]
  },
  {
   "cell_type": "markdown",
   "metadata": {},
   "source": [
    "Run Group Lasso"
   ]
  },
  {
   "cell_type": "code",
   "execution_count": 20,
   "metadata": {
    "collapsed": false
   },
   "outputs": [],
   "source": [
    "K = 1\n",
    "L = 1\n",
    "n = 500\n",
    "p = 30\n",
    "rho = 0.8\n",
    "numColumns = int(p*K+p*(p-1)/2*L)\n",
    "groups = Array(Array{Int64, 1}, numColumns)\n",
    "for i=1:numColumns\n",
    "    groups[i] = [i]\n",
    "end\n",
    "mask = ones(Float64, numColumns)\n",
    "mask[1:p*K] = 0.;"
   ]
  },
  {
   "cell_type": "code",
   "execution_count": 40,
   "metadata": {
    "collapsed": false
   },
   "outputs": [
    {
     "name": "stdout",
     "output_type": "stream",
     "text": [
      "elapsed time: 17.838836137 seconds (5078616208 bytes allocated, 20.84% gc time)\n"
     ]
    }
   ],
   "source": [
    "numRep = 10\n",
    "lambdaArr = logspace(log10(3), log10(0.3), 30)\n",
    "numLambda = length(lambdaArr)\n",
    "pathSol = cell(numRep, numLambda)\n",
    "\n",
    "@time for rep = 1:numRep\n",
    "    X, _, _ = gen_data_chain(n,p,rho)\n",
    "    \n",
    "    DD = NPGM.getDD(X, K, L, NPGM.gm_node_der_f, NPGM.gm_edge_der_f)\n",
    "    E = NPGM.getE(X, K, L, NPGM.gm_node_der_2_f, NPGM.gm_edge_der_2_f)\n",
    "    \n",
    "    scale!(E, -1./n)   # note -1 because of group lasso interface\n",
    "    scale!(DD, 1./n)    \n",
    "    \n",
    "    solution = zeros(Float64, numColumns)\n",
    "    for indLambda=1:numLambda\n",
    "        HD.group_lasso!(solution, DD, E, groups, lambdaArr[indLambda]*mask)\n",
    "        \n",
    "        solution[find(abs(solution) .< 1e-4)] = 0.\n",
    "        eThetaSp = zeros(Float64, p, p)\n",
    "        NPGM.getPrecision(eThetaSp, p, solution)\n",
    "        pathSol[rep, indLambda] = eThetaSp        \n",
    "    end\n",
    "end"
   ]
  },
  {
   "cell_type": "code",
   "execution_count": 41,
   "metadata": {
    "collapsed": false
   },
   "outputs": [],
   "source": [
    "Sigma = zeros(Float64, p, p)\n",
    "for a=1:p\n",
    "    for b=1:p\n",
    "        Sigma[a,b] = rho^abs(a-b)\n",
    "    end\n",
    "end\n",
    "Theta = inv(Sigma)\n",
    "Theta[find(abs(Theta) .< 1e-4)] = 0.\n",
    "\n",
    "trueSparsity = spones(sparse(Theta))\n",
    "\n",
    "hammingDistance = zeros(numRep, numLambda)\n",
    "for rep=1:numRep\n",
    "    for indLambda=1:numLambda    \n",
    "        estimSparsity = spones(sparse(pathSol[rep, indLambda]))    \n",
    "        hammingDistance[rep, indLambda] = nnz(trueSparsity - estimSparsity) / 2.\n",
    "    end\n",
    "end"
   ]
  },
  {
   "cell_type": "code",
   "execution_count": 10,
   "metadata": {
    "collapsed": false
   },
   "outputs": [
    {
     "name": "stderr",
     "output_type": "stream",
     "text": [
      "INFO: Loading help data...\n"
     ]
    }
   ],
   "source": [
    "using PyPlot"
   ]
  },
  {
   "cell_type": "code",
   "execution_count": 42,
   "metadata": {
    "collapsed": false
   },
   "outputs": [
    {
     "data": {
      "image/png": "[encoded data removed]",
      "text/plain": [
       "Figure(PyObject <matplotlib.figure.Figure object at 0x7f1bd0613050>)"
      ]
     },
     "metadata": {},
     "output_type": "display_data"
    },
    {
     "data": {
      "text/plain": [
       "1-element Array{Any,1}:\n",
       " PyObject <matplotlib.lines.Line2D object at 0x7f1bd021a410>"
      ]
     },
     "execution_count": 42,
     "metadata": {},
     "output_type": "execute_result"
    }
   ],
   "source": [
    "plot(lambdaArr, vec(mean(hammingDistance, 1)))"
   ]
  },
  {
   "cell_type": "markdown",
   "metadata": {},
   "source": [
    "### Slow ways to compute DD"
   ]
  },
  {
   "cell_type": "code",
   "execution_count": 9,
   "metadata": {
    "collapsed": false
   },
   "outputs": [],
   "source": [
    "# # This should not be run -- slower\n",
    "# D = getD(X, 1, K, L, phi_node_der, phi_edge_der)\n",
    "# DD1 = D'D\n",
    "# @time for i=2:n\n",
    "#     D = getD(X, i, K, L, phi_node_der, phi_edge_der)    \n",
    "#     tnz = (D'D).nzval\n",
    "#     DDnz = DD1.nzval    \n",
    "#     for j=1:length(DDnz)\n",
    "#         @inbounds DDnz[j] = DDnz[j] + tnz[j]\n",
    "#     end\n",
    "# end\n",
    "# @time E = getE(X, K, L, phi_node_der_2, phi_edge_der_2);"
   ]
  },
  {
   "cell_type": "code",
   "execution_count": 10,
   "metadata": {
    "collapsed": false
   },
   "outputs": [],
   "source": [
    "# # This should not be run -- shows how slow the other approach is\n",
    "# DD1 = zeros(Float64, numFeatures, numFeatures)\n",
    "# @time for i=1:n\n",
    "#     D = getD(X, i, K, L, phi_node_der, phi_edge_der)\n",
    "#     broadcast!(+, DD1, DD1, D'D)\n",
    "# end\n",
    "# # DD = sparse(DD);\n",
    "# @time E = getE(X, K, L, phi_node_der_2, phi_edge_der_2);\n",
    "# maximum(abs(DD1-DD))"
   ]
  },
  {
   "cell_type": "markdown",
   "metadata": {},
   "source": [
    "###Test case \n",
    "\n",
    "Without penalty, we should get back the inverse of the covariance matrix."
   ]
  },
  {
   "cell_type": "code",
   "execution_count": 59,
   "metadata": {
    "collapsed": false
   },
   "outputs": [
    {
     "name": "stdout",
     "output_type": "stream",
     "text": [
      "CHOLMOD warning: matrix not positive definite\n"
     ]
    },
    {
     "data": {
      "text/plain": [
       "13.164281562842719"
      ]
     },
     "execution_count": 59,
     "metadata": {},
     "output_type": "execute_result"
    }
   ],
   "source": [
    "eTmp = -DD \\ E\n",
    "eTheta = zeros(Float64, p, p)\n",
    "getPrecision(eTheta, p, eTmp)\n",
    "maximum(abs(eTheta - inv(X'X/n)))"
   ]
  },
  {
   "cell_type": "markdown",
   "metadata": {},
   "source": [
    "### Speed comparison"
   ]
  },
  {
   "cell_type": "code",
   "execution_count": 115,
   "metadata": {
    "collapsed": false
   },
   "outputs": [
    {
     "name": "stdout",
     "output_type": "stream",
     "text": [
      "elapsed time: 17.278545179 seconds (29300553480 bytes allocated, 5.42% gc time)\n",
      "elapsed time: 0.325628994 seconds (237552528 bytes allocated)\n",
      "elapsed time: 2.501415187 seconds (367830448 bytes allocated, 3.58% gc time)\n"
     ]
    }
   ],
   "source": [
    "D = getD(X, 1, K, L, phi_node_der, phi_edge_der)\n",
    "DD = D'D\n",
    "@time for i=2:n\n",
    "    D = getD(X, i, K, L, phi_node_der, phi_edge_der)\n",
    "    broadcast!(+, DD.nzval, DD.nzval, (D'D).nzval)\n",
    "end\n",
    "@time E = getE(X, K, L, phi_node_der_2, phi_edge_der_2);\n",
    "@time DD1 = getDD(X, K, L, phi_node_der, phi_edge_der);"
   ]
  }
 ],
 "metadata": {
  "kernelspec": {
   "display_name": "Julia 0.3.7-pre",
   "language": "julia",
   "name": "julia 0.3"
  },
  "language_info": {
   "name": "julia",
   "version": "0.3.8"
  }
 },
 "nbformat": 4,
 "nbformat_minor": 0
}
