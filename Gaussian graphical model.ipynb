{
 "cells": [
  {
   "cell_type": "markdown",
   "metadata": {},
   "source": [
    "# Estimating GGM using Score Matching"
   ]
  },
  {
   "cell_type": "code",
   "execution_count": 1,
   "metadata": {
    "collapsed": true
   },
   "outputs": [],
   "source": [
    "using HD"
   ]
  },
  {
   "cell_type": "markdown",
   "metadata": {},
   "source": [
    "Generate Gaussian data from which we will be learning the structure. The covariance is a Toeplitz matrix, that is, $\\Sigma = (\\sigma_{ab})$ with $\\sigma_{ab} = \\rho^{|a-b|}$."
   ]
  },
  {
   "cell_type": "code",
   "execution_count": 53,
   "metadata": {
    "collapsed": true
   },
   "outputs": [],
   "source": [
    "p = 10\n",
    "n = 100\n",
    "\n",
    "Sigma = zeros(Float64, p, p)\n",
    "rho = 0.8\n",
    "for a=1:p\n",
    "    for b=1:p\n",
    "        Sigma[a,b] = rho^abs(a-b)\n",
    "    end\n",
    "end\n",
    "Theta = inv(Sigma)\n",
    "\n",
    "X = randn(n, p) * sqrtm(Sigma);"
   ]
  },
  {
   "cell_type": "markdown",
   "metadata": {},
   "source": [
    "Constructing for each $i\\in[n]$ a matrix $D(x_i)$"
   ]
  },
  {
   "cell_type": "code",
   "execution_count": 3,
   "metadata": {
    "collapsed": false
   },
   "outputs": [
    {
     "data": {
      "text/plain": [
       "getD (generic function with 1 method)"
      ]
     },
     "execution_count": 3,
     "metadata": {},
     "output_type": "execute_result"
    }
   ],
   "source": [
    "# returns sparse matrix of size p x (p*K + p * (p-1) / 2 * L)\n",
    "function getD(\n",
    "    X::Array{Float64, 2}, rowInd::Int64, K::Int64, L::Int64,\n",
    "    phi_node_d::Function, phi_edge_d::Function)\n",
    "    \n",
    "    \n",
    "    n, p = size(X)\n",
    "    # will be used to create a sparse matrix at the end\n",
    "    rI = Array(Int64, 0)\n",
    "    cI = Array(Int64, 0)\n",
    "    V = Array(Float64, 0)\n",
    "    \n",
    "    # process node elements\n",
    "    for a=1:p\n",
    "        _ri = a\n",
    "        for k=1:K\n",
    "            _ci = (a-1)*K+k\n",
    "            _v = phi_node_d(X[rowInd, a], k)\n",
    "            \n",
    "            push!(rI, _ri)\n",
    "            push!(cI, _ci)\n",
    "            push!(V, _v)\n",
    "        end\n",
    "    end\n",
    "    \n",
    "    numEdges = 0\n",
    "    # process edges\n",
    "    for a=1:p\n",
    "        for b=a+1:p\n",
    "            numEdges += 1\n",
    "            \n",
    "            # derivative with respect to first argument\n",
    "            _ri = a\n",
    "            for l=1:L\n",
    "                _ci = p*K + (numEdges-1)*L + l                \n",
    "                _v = phi_edge_d(X[rowInd, a], X[rowInd, b], l, 1)\n",
    "                \n",
    "                push!(rI, _ri)\n",
    "                push!(cI, _ci)\n",
    "                push!(V, _v)\n",
    "            end\n",
    "            \n",
    "            # derivative with respect to second argument\n",
    "            _ri = b\n",
    "            for l=1:L\n",
    "                _ci = p*K + (numEdges-1)*L + l                \n",
    "                _v = phi_edge_d(X[rowInd, a], X[rowInd, b], l, 2)\n",
    "                \n",
    "                push!(rI, _ri)\n",
    "                push!(cI, _ci)\n",
    "                push!(V, _v)\n",
    "            end          \n",
    "            \n",
    "        end\n",
    "    end\n",
    "    \n",
    "    sparse(rI, cI, V, p, int(p*K+p*(p-1)/2*L))    \n",
    "end"
   ]
  },
  {
   "cell_type": "markdown",
   "metadata": {},
   "source": [
    "Constructing matrix $E$"
   ]
  },
  {
   "cell_type": "code",
   "execution_count": 4,
   "metadata": {
    "collapsed": false
   },
   "outputs": [
    {
     "data": {
      "text/plain": [
       "getE (generic function with 1 method)"
      ]
     },
     "execution_count": 4,
     "metadata": {},
     "output_type": "execute_result"
    }
   ],
   "source": [
    "function getE(\n",
    "    X::Array{Float64, 2}, K::Int64, L::Int64,\n",
    "    phi_node_d_2::Function, phi_edge_d_2::Function)\n",
    "    \n",
    "    n, p = size(X)\n",
    "    E = zeros(Float64, int(p*K+p*(p-1)/2*L), 1)\n",
    "    for rowInd=1:n\n",
    "        # process node elements\n",
    "        for a=1:p        \n",
    "            for k=1:K\n",
    "                _ci = (a-1)*K+k\n",
    "                E[_ci] = E[_ci] + phi_node_d_2(X[rowInd, a], k)                        \n",
    "            end\n",
    "        end    \n",
    "        \n",
    "        \n",
    "        # process edges\n",
    "        numEdges = 0        \n",
    "        for a=1:p\n",
    "            for b=a+1:p\n",
    "                numEdges += 1                                        \n",
    "                for l=1:L\n",
    "                    _ci = p*K + (numEdges-1)*L + l                \n",
    "                    E[_ci] = E[_ci] + phi_edge_d_2(X[rowInd, a], X[rowInd, b], l)\n",
    "                end            \n",
    "            end\n",
    "        end\n",
    "    end\n",
    "    E\n",
    "end"
   ]
  },
  {
   "cell_type": "markdown",
   "metadata": {
    "collapsed": true
   },
   "source": [
    "Constructing node and edge handles"
   ]
  },
  {
   "cell_type": "code",
   "execution_count": 5,
   "metadata": {
    "collapsed": true
   },
   "outputs": [],
   "source": [
    "function phi_node(x::Float64, k::Int64)\n",
    "    k == 1 ? - x^2 / 2. : 0.\n",
    "end;"
   ]
  },
  {
   "cell_type": "code",
   "execution_count": 6,
   "metadata": {
    "collapsed": true
   },
   "outputs": [],
   "source": [
    "function phi_edge(x::Float64, y::Float64, k::Int64)\n",
    "    k == 1 ? - x * y : 0.\n",
    "end;"
   ]
  },
  {
   "cell_type": "code",
   "execution_count": 7,
   "metadata": {
    "collapsed": true
   },
   "outputs": [],
   "source": [
    "function phi_edge_der(x::Float64, y::Float64, k::Int64, whichArgument::Int64)\n",
    "    if k == 1\n",
    "        if whichArgument == 1\n",
    "            return -y\n",
    "        elseif whichArgument == 2\n",
    "            return -x\n",
    "        else\n",
    "            throw(ArgumentError(\"whichArgument should be either 1 or 2\"))\n",
    "        end\n",
    "    else\n",
    "        return 0.\n",
    "    end    \n",
    "end;"
   ]
  },
  {
   "cell_type": "code",
   "execution_count": 8,
   "metadata": {
    "collapsed": true
   },
   "outputs": [],
   "source": [
    "function phi_node_der(x::Float64, k::Int64)\n",
    "    k == 1 ? - x : 0.\n",
    "end;"
   ]
  },
  {
   "cell_type": "code",
   "execution_count": 9,
   "metadata": {
    "collapsed": true
   },
   "outputs": [],
   "source": [
    "function phi_edge_der_2(x::Float64, y::Float64, k::Int64)\n",
    "    return 0.\n",
    "end;"
   ]
  },
  {
   "cell_type": "code",
   "execution_count": 10,
   "metadata": {
    "collapsed": true
   },
   "outputs": [],
   "source": [
    "function phi_node_der_2(x::Float64, k::Int64)\n",
    "    k == 1 ? -1. : 0.\n",
    "end;"
   ]
  },
  {
   "cell_type": "markdown",
   "metadata": {},
   "source": [
    "## Run Group Lasso"
   ]
  },
  {
   "cell_type": "code",
   "execution_count": 11,
   "metadata": {
    "collapsed": false
   },
   "outputs": [],
   "source": [
    "K = 1\n",
    "L = 1\n",
    "numFeatures = int(p*K+p*(p-1)/2*L)\n",
    "groups = Array(Array{Int64, 1}, numFeatures)\n",
    "for i=1:numFeatures\n",
    "    groups[i] = [i]\n",
    "end\n",
    "mask = ones(Float64, numFeatures)\n",
    "mask[1:p*K] = 0.;"
   ]
  },
  {
   "cell_type": "code",
   "execution_count": 47,
   "metadata": {
    "collapsed": false
   },
   "outputs": [
    {
     "name": "stdout",
     "output_type": "stream",
     "text": [
      "elapsed time: 0.006776446 seconds (8935224 bytes allocated)\n"
     ]
    }
   ],
   "source": [
    "DD = zeros(Float64, numFeatures, numFeatures)\n",
    "@time for i=1:n\n",
    "    D = getD(X, i, K, L, phi_node_der, phi_edge_der)\n",
    "    broadcast!(+, DD, DD, D'D)\n",
    "end"
   ]
  },
  {
   "cell_type": "code",
   "execution_count": 48,
   "metadata": {
    "collapsed": false
   },
   "outputs": [],
   "source": [
    "E = getE(X, K, L, phi_node_der_2, phi_edge_der_2);"
   ]
  },
  {
   "cell_type": "code",
   "execution_count": 54,
   "metadata": {
    "collapsed": false
   },
   "outputs": [],
   "source": [
    "eTmp = - DD \\ E;\n",
    "eTheta = zeros(Float64, p, p)\n",
    "\n",
    "for a=1:p        \n",
    "    for k=1:K\n",
    "        _ci = (a-1)*K+k\n",
    "        eTheta[a,a] = eTmp[_ci]\n",
    "    end\n",
    "end            \n",
    "        \n",
    "numEdges = 0        \n",
    "for a=1:p\n",
    "    for b=a+1:p\n",
    "        numEdges += 1                                        \n",
    "        for l=1:L\n",
    "            _ci = p*K + (numEdges-1)*L + l                \n",
    "            eTheta[a,b] = eTmp[_ci]\n",
    "            eTheta[b,a] = eTmp[_ci]\n",
    "        end            \n",
    "    end\n",
    "end"
   ]
  },
  {
   "cell_type": "code",
   "execution_count": 55,
   "metadata": {
    "collapsed": false
   },
   "outputs": [
    {
     "data": {
      "text/plain": [
       "(\n",
       "10x10 Array{Float64,2}:\n",
       "  3.69465    -2.61944   -0.81703    …   0.112437   -0.191774   -0.0269485\n",
       " -2.61944     4.40339   -1.25266        0.10087     0.065415   -0.07639  \n",
       " -0.81703    -1.25266    4.44752       -0.0449493  -0.0801923   0.574739 \n",
       "  0.773916   -0.237338  -2.50784       -0.153403   -0.295028    0.166991 \n",
       " -0.552158    0.258944   0.711903      -0.266807   -0.108105    0.529375 \n",
       "  0.211166   -0.492483  -0.203214   …   0.0611513   0.121856   -0.544949 \n",
       " -0.543465    0.587717  -0.146314      -2.04211     0.149969   -0.410102 \n",
       "  0.112437    0.10087   -0.0449493      4.18931    -1.68506    -0.11371  \n",
       " -0.191774    0.065415  -0.0801923     -1.68506     4.09715    -2.35692  \n",
       " -0.0269485  -0.07639    0.574739      -0.11371    -2.35692     3.28987  ,\n",
       "\n",
       "10x10 Array{Float64,2}:\n",
       "  2.77778      -2.22222      -5.05768e-16  …  -3.11479e-16   1.38778e-16\n",
       " -2.22222       4.55556      -2.22222          6.16791e-16  -3.08395e-16\n",
       "  4.14483e-18  -2.22222       4.55556         -7.46317e-16   4.31753e-16\n",
       " -8.81665e-17  -1.62635e-16  -2.22222          6.16791e-16  -4.62593e-16\n",
       "  6.64326e-16  -7.85584e-16   1.59083e-16      7.27813e-16  -3.70074e-16\n",
       " -2.59403e-16   7.92137e-16   2.06847e-16  …  -1.11022e-16   5.24272e-16\n",
       " -5.66834e-16   6.22184e-16  -3.98693e-17     -2.28213e-15   9.25186e-16\n",
       "  6.83656e-16  -1.01276e-15   2.12354e-16     -2.22222      -1.54198e-15\n",
       " -4.44089e-16   6.10623e-16  -7.77156e-16      4.55556      -2.22222    \n",
       "  2.22045e-16  -2.77556e-16   5.55112e-16     -2.22222       2.77778    )"
      ]
     },
     "execution_count": 55,
     "metadata": {},
     "output_type": "execute_result"
    }
   ],
   "source": [
    "eTheta, Theta"
   ]
  }
 ],
 "metadata": {
  "kernelspec": {
   "display_name": "Julia 0.3.8-pre",
   "language": "julia",
   "name": "julia 0.3"
  },
  "language_info": {
   "name": "julia",
   "version": "0.3.8"
  }
 },
 "nbformat": 4,
 "nbformat_minor": 0
}
