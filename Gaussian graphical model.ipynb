{
 "cells": [
  {
   "cell_type": "markdown",
   "metadata": {},
   "source": [
    "# Estimating GGM using Score Matching"
   ]
  },
  {
   "cell_type": "code",
   "execution_count": 2,
   "metadata": {
    "collapsed": false
   },
   "outputs": [],
   "source": [
    "import HD, NPGM, BSpline\n",
    "# reload(\"HD\")\n",
    "# reload(\"NPGM\")"
   ]
  },
  {
   "cell_type": "markdown",
   "metadata": {},
   "source": [
    "Generate Gaussian data from which we will be learning the structure. The covariance is a Toeplitz matrix, that is, $\\Sigma = (\\sigma_{ab})$ with $\\sigma_{ab} = \\rho^{|a-b|}$."
   ]
  },
  {
   "cell_type": "code",
   "execution_count": 3,
   "metadata": {
    "collapsed": false
   },
   "outputs": [
    {
     "data": {
      "text/plain": [
       "gen_data_chain (generic function with 1 method)"
      ]
     },
     "execution_count": 3,
     "metadata": {},
     "output_type": "execute_result"
    }
   ],
   "source": [
    "function gen_data_chain(n::Int64, p::Int64, rho::Float64; zero_thr=1e-4)\n",
    "\n",
    "    Sigma = zeros(Float64, p, p)\n",
    "    for a=1:p\n",
    "        for b=1:p\n",
    "            Sigma[a,b] = rho^abs(a-b)\n",
    "        end\n",
    "    end\n",
    "    Theta = inv(Sigma)\n",
    "    Theta[find(abs(Theta) .< zero_thr)] = 0.\n",
    "    \n",
    "    X = randn(n, p) * sqrtm(Sigma), Sigma, Theta\n",
    "end"
   ]
  },
  {
   "cell_type": "markdown",
   "metadata": {},
   "source": [
    "Run Group Lasso"
   ]
  },
  {
   "cell_type": "code",
   "execution_count": 9,
   "metadata": {
    "collapsed": false
   },
   "outputs": [],
   "source": [
    "K = 1\n",
    "L = 1\n",
    "n = 500\n",
    "p = 100\n",
    "rho = 0.8\n",
    "numColumns = int(p*K+p*(p-1)/2*L)\n",
    "groups = Array(Array{Int64, 1}, numColumns)\n",
    "for i=1:numColumns\n",
    "    groups[i] = [i]\n",
    "end\n",
    "mask = ones(Float64, numColumns)\n",
    "mask[1:p*K] = 0.;"
   ]
  },
  {
   "cell_type": "code",
   "execution_count": 10,
   "metadata": {
    "collapsed": false
   },
   "outputs": [
    {
     "name": "stdout",
     "output_type": "stream",
     "text": [
      "elapsed time: 216.261699445 seconds (33859976660 bytes allocated, 11.11% gc time)\n"
     ]
    }
   ],
   "source": [
    "numRep = 5\n",
    "lambdaArr = logspace(log10(3), log10(0.3), 30)\n",
    "numLambda = length(lambdaArr)\n",
    "pathSol = cell(numRep, numLambda)\n",
    "\n",
    "@time for rep = 1:numRep\n",
    "    X, _, _ = gen_data_chain(n,p,rho)\n",
    "    \n",
    "    DD = NPGM.getDD(X, K, L, NPGM.gm_node_der_f, NPGM.gm_edge_der_f)\n",
    "    E = NPGM.getE(X, K, L, NPGM.gm_node_der_2_f, NPGM.gm_edge_der_2_f)\n",
    "    \n",
    "    scale!(E, -1./n)   # note -1 because of group lasso interface\n",
    "    scale!(DD, 1./n)    \n",
    "    \n",
    "    solution = zeros(Float64, numColumns)\n",
    "    for indLambda=1:numLambda\n",
    "        HD.group_lasso!(solution, DD, E, groups, lambdaArr[indLambda]*mask)\n",
    "        \n",
    "        solution[find(abs(solution) .< 1e-4)] = 0.\n",
    "        eThetaSp = zeros(Float64, p, p)\n",
    "        NPGM.getPrecision(eThetaSp, p, solution)\n",
    "        pathSol[rep, indLambda] = eThetaSp        \n",
    "    end\n",
    "end"
   ]
  },
  {
   "cell_type": "code",
   "execution_count": 11,
   "metadata": {
    "collapsed": false
   },
   "outputs": [],
   "source": [
    "Sigma = zeros(Float64, p, p)\n",
    "for a=1:p\n",
    "    for b=1:p\n",
    "        Sigma[a,b] = rho^abs(a-b)\n",
    "    end\n",
    "end\n",
    "Theta = inv(Sigma)\n",
    "Theta[find(abs(Theta) .< 1e-4)] = 0.\n",
    "\n",
    "trueSparsity = spones(sparse(Theta))\n",
    "\n",
    "hammingDistance = zeros(numRep, numLambda)\n",
    "for rep=1:numRep\n",
    "    for indLambda=1:numLambda    \n",
    "        estimSparsity = spones(sparse(pathSol[rep, indLambda]))    \n",
    "        hammingDistance[rep, indLambda] = nnz(trueSparsity - estimSparsity) / 2.\n",
    "    end\n",
    "end"
   ]
  },
  {
   "cell_type": "code",
   "execution_count": 7,
   "metadata": {
    "collapsed": false
   },
   "outputs": [
    {
     "name": "stderr",
     "output_type": "stream",
     "text": [
      "INFO: Loading help data...\n"
     ]
    }
   ],
   "source": [
    "using PyPlot"
   ]
  },
  {
   "cell_type": "code",
   "execution_count": 12,
   "metadata": {
    "collapsed": false
   },
   "outputs": [
    {
     "data": {
      "image/png": "[encoded data removed]",
      "text/plain": [
       "Figure(PyObject <matplotlib.figure.Figure object at 0x7f398db70e50>)"
      ]
     },
     "metadata": {},
     "output_type": "display_data"
    },
    {
     "data": {
      "text/plain": [
       "1-element Array{Any,1}:\n",
       " PyObject <matplotlib.lines.Line2D object at 0x7f398da7dc50>"
      ]
     },
     "execution_count": 12,
     "metadata": {},
     "output_type": "execute_result"
    }
   ],
   "source": [
    "plot(lambdaArr, vec(mean(hammingDistance, 1)))"
   ]
  },
  {
   "cell_type": "markdown",
   "metadata": {},
   "source": [
    "### Slow ways to compute DD"
   ]
  },
  {
   "cell_type": "code",
   "execution_count": 9,
   "metadata": {
    "collapsed": false
   },
   "outputs": [],
   "source": [
    "# # This should not be run -- slower\n",
    "# D = getD(X, 1, K, L, phi_node_der, phi_edge_der)\n",
    "# DD1 = D'D\n",
    "# @time for i=2:n\n",
    "#     D = getD(X, i, K, L, phi_node_der, phi_edge_der)    \n",
    "#     tnz = (D'D).nzval\n",
    "#     DDnz = DD1.nzval    \n",
    "#     for j=1:length(DDnz)\n",
    "#         @inbounds DDnz[j] = DDnz[j] + tnz[j]\n",
    "#     end\n",
    "# end\n",
    "# @time E = getE(X, K, L, phi_node_der_2, phi_edge_der_2);"
   ]
  },
  {
   "cell_type": "code",
   "execution_count": 10,
   "metadata": {
    "collapsed": false
   },
   "outputs": [],
   "source": [
    "# # This should not be run -- shows how slow the other approach is\n",
    "# DD1 = zeros(Float64, numFeatures, numFeatures)\n",
    "# @time for i=1:n\n",
    "#     D = getD(X, i, K, L, phi_node_der, phi_edge_der)\n",
    "#     broadcast!(+, DD1, DD1, D'D)\n",
    "# end\n",
    "# # DD = sparse(DD);\n",
    "# @time E = getE(X, K, L, phi_node_der_2, phi_edge_der_2);\n",
    "# maximum(abs(DD1-DD))"
   ]
  },
  {
   "cell_type": "markdown",
   "metadata": {},
   "source": [
    "###Test case \n",
    "\n",
    "Without penalty, we should get back the inverse of the covariance matrix."
   ]
  },
  {
   "cell_type": "code",
   "execution_count": 59,
   "metadata": {
    "collapsed": false
   },
   "outputs": [
    {
     "name": "stdout",
     "output_type": "stream",
     "text": [
      "CHOLMOD warning: matrix not positive definite\n"
     ]
    },
    {
     "data": {
      "text/plain": [
       "13.164281562842719"
      ]
     },
     "execution_count": 59,
     "metadata": {},
     "output_type": "execute_result"
    }
   ],
   "source": [
    "eTmp = -DD \\ E\n",
    "eTheta = zeros(Float64, p, p)\n",
    "getPrecision(eTheta, p, eTmp)\n",
    "maximum(abs(eTheta - inv(X'X/n)))"
   ]
  },
  {
   "cell_type": "markdown",
   "metadata": {},
   "source": [
    "### Speed comparison"
   ]
  },
  {
   "cell_type": "code",
   "execution_count": 85,
   "metadata": {
    "collapsed": false
   },
   "outputs": [
    {
     "ename": "LoadError",
     "evalue": "getD not defined\nwhile loading In[85], in expression starting on line 1",
     "output_type": "error",
     "traceback": [
      "getD not defined\nwhile loading In[85], in expression starting on line 1",
      ""
     ]
    }
   ],
   "source": [
    "D = getD(X, 1, K, L, phi_node_der, phi_edge_der)\n",
    "DD = D'D\n",
    "@time for i=2:n\n",
    "    D = getD(X, i, K, L, phi_node_der, phi_edge_der)\n",
    "    broadcast!(+, DD.nzval, DD.nzval, (D'D).nzval)\n",
    "end\n",
    "@time E = getE(X, K, L, phi_node_der_2, phi_edge_der_2);\n",
    "@time DD1 = getDD(X, K, L, phi_node_der, phi_edge_der);"
   ]
  },
  {
   "cell_type": "markdown",
   "metadata": {},
   "source": [
    "# BSpline Version"
   ]
  },
  {
   "cell_type": "code",
   "execution_count": 78,
   "metadata": {
    "collapsed": false
   },
   "outputs": [],
   "source": [
    "function createNodeFunction(M, xmin, xmax, numKnots)\n",
    "   \n",
    "    bs = BSpline.BSplineT(M, xmin, xmax, numKnots)\n",
    "    K = BSpline.num_basis(bs)\n",
    "    \n",
    "    f_node(x, k)      = BSpline.bspline_basis(k-1, bs, x)\n",
    "    f_node_der(x, k)  = BSpline.derivative_bspline_basis(k-1, bs, x)\n",
    "    f_node_der2(x, k) = BSpline.derivative2_bspline_basis(k-1, bs, x)\n",
    "    \n",
    "    (f_node, f_node_der, f_node_der2, K)\n",
    "end\n",
    "\n",
    "function createEdgeFunction(M, xmin, xmax, numKnots)\n",
    "   \n",
    "    bs1 = BSpline.BSplineT(M, xmin[1], xmax[1], numKnots[1])\n",
    "    bs2 = BSpline.BSplineT(M, xmin[2], xmax[2], numKnots[2])\n",
    "    L1 = BSpline.num_basis(bs1) \n",
    "    L2 = BSpline.num_basis(bs2)\n",
    "    \n",
    "    function f_edge(x, y, l) \n",
    "        r, c = ind2sub((L1, L2), l)\n",
    "        r -= 1\n",
    "        c -= 1\n",
    "        return BSpline.bspline_basis(r, bs1, x) * BSpline.bspline_basis(c, bs2, y)\n",
    "    end    \n",
    "    function f_edge_der(x, y, l, whichArgument) \n",
    "        r, c = ind2sub((L1, L2), l)\n",
    "        r -= 1\n",
    "        c -= 1\n",
    "        if whichArgument == 1\n",
    "            return BSpline.derivative_bspline_basis(r, bs1, x) * BSpline.bspline_basis(c, bs2, y)\n",
    "        else\n",
    "            return BSpline.bspline_basis(r, bs1, x) * BSpline.derivative_bspline_basis(c, bs2, y)\n",
    "        end\n",
    "    end\n",
    "    function f_edge_der2(x, y, l, whichArgument) \n",
    "        r, c = ind2sub((L1, L2), l)\n",
    "        r -= 1\n",
    "        c -= 1\n",
    "        if whichArgument == 1\n",
    "            return BSpline.derivative2_bspline_basis(r, bs1, x) * BSpline.bspline_basis(c, bs2, y)\n",
    "        else\n",
    "            return BSpline.bspline_basis(r, bs1, x) * BSpline.derivative2_bspline_basis(c, bs2, y)\n",
    "        end\n",
    "    end\n",
    "    \n",
    "    (f_edge, f_edge_der, f_edge_der2, L1*L2)\n",
    "end\n",
    "(phi_node, phi_node_der, phi_node_der2, K) = createNodeFunction(4, -4., 4., 6)\n",
    "(phi_edge, phi_edge_der, phi_edge_der2, L) = createEdgeFunction(4, (-4., -4.), (4., 4.), (4,4));"
   ]
  },
  {
   "cell_type": "code",
   "execution_count": 79,
   "metadata": {
    "collapsed": false
   },
   "outputs": [],
   "source": [
    "n = 1000\n",
    "p = 3\n",
    "rho = 0.4\n",
    "X, _, _ = gen_data_chain(n,p,rho);"
   ]
  },
  {
   "cell_type": "code",
   "execution_count": 11,
   "metadata": {
    "collapsed": false
   },
   "outputs": [
    {
     "name": "stdout",
     "output_type": "stream",
     "text": [
      "elapsed time: 407.621929005 seconds (557471916424 bytes allocated, 7.44% gc time)\n",
      "elapsed time: 42.827687641 seconds (7513576032 bytes allocated, 7.57% gc time)\n"
     ]
    }
   ],
   "source": [
    "# D = NPGM.getD(X, 1, K, L, phi_node_der, phi_edge_der)\n",
    "# DD = D'D\n",
    "# @time for i=2:n\n",
    "#     D = NPGM.getD(X, i, K, L, phi_node_der, phi_edge_der)\n",
    "#     DD += D'D\n",
    "# end\n",
    "# @time DD1 = NPGM.getDD(X, K, L, phi_node_der, phi_edge_der);"
   ]
  },
  {
   "cell_type": "markdown",
   "metadata": {
    "collapsed": true
   },
   "source": [
    "# Spline neighborhood"
   ]
  },
  {
   "cell_type": "code",
   "execution_count": 9,
   "metadata": {
    "collapsed": false
   },
   "outputs": [],
   "source": [
    "# D = NPGM.getNeighborhoodD(X, 2, 1, K, L, phi_node_der, phi_edge_der)\n",
    "# out = zeros(K+(p-1)*L, 2)\n",
    "# NPGM.getNeighborhoodD!(out, X, 2, 1, K, L, phi_node_der, phi_edge_der)"
   ]
  },
  {
   "cell_type": "code",
   "execution_count": 50,
   "metadata": {
    "collapsed": false
   },
   "outputs": [
    {
     "name": "stdout",
     "output_type": "stream",
     "text": [
      "elapsed time: 0.015566065 seconds (39199128 bytes allocated)\n",
      "elapsed time: 0.042158894 seconds (9663648 bytes allocated, 76.99% gc time)\n"
     ]
    }
   ],
   "source": [
    "# D = NPGM.getNeighborhoodD(X, 1, 1, K, L, phi_node_der, phi_edge_der)\n",
    "# DD = D'D\n",
    "# @time for i=2:n\n",
    "#     D = NPGM.getNeighborhoodD(X, i, 1, K, L, phi_node_der, phi_edge_der)\n",
    "#     DD += D'D\n",
    "# end\n",
    "# @time DD1 = NPGM.getNeighborhoodDD(X, 1, K, L, phi_node_der, phi_edge_der);"
   ]
  },
  {
   "cell_type": "code",
   "execution_count": 80,
   "metadata": {
    "collapsed": false
   },
   "outputs": [
    {
     "name": "stdout",
     "output_type": "stream",
     "text": [
      "elapsed time: 0.215878887 seconds (107147364 bytes allocated, 34.81% gc time)\n",
      "elapsed time: 0.21297679 seconds (110550052 bytes allocated, 46.99% gc time)\n"
     ]
    }
   ],
   "source": [
    "@time DD = NPGM.getNeighborhoodDD(X, 1, K, L, phi_node_der, phi_edge_der);\n",
    "@time E = NPGM.getNeighborhoodE(X, 1, K, L, phi_node_der2, phi_edge_der2);"
   ]
  },
  {
   "cell_type": "code",
   "execution_count": 84,
   "metadata": {
    "collapsed": false
   },
   "outputs": [],
   "source": [
    "numGroups = p\n",
    "groups = Array(Array{Int64, 1}, numGroups)\n",
    "groups[1] = [1:K]\n",
    "for j=1:p-1\n",
    "    groups[j+1] = [K+(j-1)*L+1:K+j*L]\n",
    "end\n",
    "lambda = zeros(p)\n",
    "lambda[1] = 0.\n",
    "for j=1:p-1\n",
    "    lambda[j+1] = 1\n",
    "end\n",
    "# beta = zeros(K+(p-1)*L); "
   ]
  },
  {
   "cell_type": "code",
   "execution_count": 85,
   "metadata": {
    "collapsed": false
   },
   "outputs": [],
   "source": [
    "HD.group_lasso!(beta, DD, -E, groups, lambda)"
   ]
  },
  {
   "cell_type": "code",
   "execution_count": 88,
   "metadata": {
    "collapsed": false
   },
   "outputs": [
    {
     "data": {
      "image/png": "[encoded data removed]",
      "text/plain": [
       "Figure(PyObject <matplotlib.figure.Figure object at 0x7f0cf936a050>)"
      ]
     },
     "metadata": {},
     "output_type": "display_data"
    }
   ],
   "source": [
    "x0 = [0, 0]\n",
    "testX = linspace(-4., +4, 1000)\n",
    "psiX = zeros(length(testX), K+(p-1)*L)\n",
    "for i=1:length(testX)\n",
    "    for j=1:K\n",
    "        psiX[i, j] = phi_node(testX[i], j)\n",
    "    end\n",
    "    for b=1:p-1\n",
    "        for l=1:L\n",
    "            psiX[i, K+(b-1)*L+l] = phi_edge(testX[i], x0[b], l)\n",
    "        end\n",
    "    end\n",
    "end\n",
    "f = psiX * beta;\n",
    "c0 = ExpFamilyGM.trapz(f, -4., 4.)\n",
    "PyPlot.plot(testX, f/c0);"
   ]
  },
  {
   "cell_type": "code",
   "execution_count": 67,
   "metadata": {
    "collapsed": false
   },
   "outputs": [
    {
     "name": "stderr",
     "output_type": "stream",
     "text": [
      "INFO: Loading help data...\n"
     ]
    }
   ],
   "source": [
    "import PyPlot"
   ]
  },
  {
   "cell_type": "code",
   "execution_count": 69,
   "metadata": {
    "collapsed": true
   },
   "outputs": [],
   "source": [
    "import ExpFamilyGM"
   ]
  },
  {
   "cell_type": "code",
   "execution_count": 86,
   "metadata": {
    "collapsed": false
   },
   "outputs": [
    {
     "data": {
      "text/plain": [
       "1x80 Array{Float64,2}:\n",
       " -885.006  123.003  128.535  131.904  …  0.0112406  0.0212815  0.00213655"
      ]
     },
     "execution_count": 86,
     "metadata": {},
     "output_type": "execute_result"
    }
   ],
   "source": [
    "beta'"
   ]
  },
  {
   "cell_type": "code",
   "execution_count": null,
   "metadata": {
    "collapsed": true
   },
   "outputs": [],
   "source": []
  }
 ],
 "metadata": {
  "kernelspec": {
   "display_name": "Julia 0.4.0-dev",
   "language": "julia",
   "name": "julia 0.4"
  },
  "language_info": {
   "name": "julia",
   "version": "0.3.8"
  }
 },
 "nbformat": 4,
 "nbformat_minor": 0
}
