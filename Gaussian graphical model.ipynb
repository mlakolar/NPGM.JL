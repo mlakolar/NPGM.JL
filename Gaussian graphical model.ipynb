{
 "cells": [
  {
   "cell_type": "markdown",
   "metadata": {},
   "source": [
    "# Estimating GGM using Score Matching"
   ]
  },
  {
   "cell_type": "code",
   "execution_count": 1,
   "metadata": {
    "collapsed": false
   },
   "outputs": [],
   "source": [
    "import HD, NPGM\n",
    "# reload(\"HD\")\n",
    "# reload(\"NPGM\")"
   ]
  },
  {
   "cell_type": "markdown",
   "metadata": {},
   "source": [
    "Generate Gaussian data from which we will be learning the structure. The covariance is a Toeplitz matrix, that is, $\\Sigma = (\\sigma_{ab})$ with $\\sigma_{ab} = \\rho^{|a-b|}$."
   ]
  },
  {
   "cell_type": "code",
   "execution_count": 2,
   "metadata": {
    "collapsed": false
   },
   "outputs": [
    {
     "data": {
      "text/plain": [
       "gen_data_chain (generic function with 1 method)"
      ]
     },
     "execution_count": 2,
     "metadata": {},
     "output_type": "execute_result"
    }
   ],
   "source": [
    "function gen_data_chain(n::Int64, p::Int64, rho::Float64; zero_thr=1e-4)\n",
    "\n",
    "    Sigma = zeros(Float64, p, p)\n",
    "    for a=1:p\n",
    "        for b=1:p\n",
    "            Sigma[a,b] = rho^abs(a-b)\n",
    "        end\n",
    "    end\n",
    "    Theta = inv(Sigma)\n",
    "    Theta[find(abs(Theta) .< zero_thr)] = 0.\n",
    "    \n",
    "    X = randn(n, p) * sqrtm(Sigma), Sigma, Theta\n",
    "end"
   ]
  },
  {
   "cell_type": "markdown",
   "metadata": {},
   "source": [
    "Run Group Lasso"
   ]
  },
  {
   "cell_type": "code",
   "execution_count": 7,
   "metadata": {
    "collapsed": false
   },
   "outputs": [],
   "source": [
    "K = 1\n",
    "L = 1\n",
    "n = 500\n",
    "p = 30\n",
    "rho = 0.8\n",
    "numColumns = int(p*K+p*(p-1)/2*L)\n",
    "groups = Array(Array{Int64, 1}, numColumns)\n",
    "for i=1:numColumns\n",
    "    groups[i] = [i]\n",
    "end\n",
    "mask = ones(Float64, numColumns)\n",
    "mask[1:p*K] = 0.;"
   ]
  },
  {
   "cell_type": "code",
   "execution_count": 9,
   "metadata": {
    "collapsed": false
   },
   "outputs": [
    {
     "name": "stdout",
     "output_type": "stream",
     "text": [
      "elapsed time: 0.157273381 seconds (22874544 bytes allocated, 24.95% gc time)\n",
      "elapsed time: 0.03287546 seconds (18363792 bytes allocated)\n",
      "elapsed time: 1.500510866 seconds (483710524 bytes allocated, 15.99% gc time)\n",
      "elapsed time: 0.142894343 seconds (22874544 bytes allocated)\n",
      "elapsed time: 0.057347568 seconds (18363792 bytes allocated, 49.15% gc time)\n",
      "elapsed time: 1.526759365 seconds (500154528 bytes allocated, 15.80% gc time)\n",
      "elapsed time: 0.140960261 seconds (22874544 bytes allocated)\n",
      "elapsed time: 0.059956703 seconds (18453184 bytes allocated, 47.24% gc time)\n",
      "elapsed time: 1.342745987 seconds (451919144 bytes allocated, 14.56% gc time)\n",
      "elapsed time: 0.156579129 seconds (22874544 bytes allocated, 16.46% gc time)\n",
      "elapsed time: 0.031353949 seconds (18363792 bytes allocated)\n",
      "elapsed time: 1.507657852 seconds (499446960 bytes allocated, 15.94% gc time)\n",
      "elapsed time: 0.157911621 seconds (22874544 bytes allocated, 15.64% gc time)\n",
      "elapsed time: 0.037327905 seconds (18363792 bytes allocated)\n",
      "elapsed time: 1.453164169 seconds (473530056 bytes allocated, 15.20% gc time)\n",
      "elapsed time: 0.130820549 seconds (22874544 bytes allocated)\n",
      "elapsed time: 0.033237359 seconds (18363792 bytes allocated)\n",
      "elapsed time: 1.675815917 seconds (535507640 bytes allocated, 15.97% gc time)\n",
      "elapsed time: 0.155771836 seconds (22874544 bytes allocated, 14.99% gc time)\n",
      "elapsed time: 0.031909956 seconds (18363792 bytes allocated)\n",
      "elapsed time: 1.381450615 seconds (450609800 bytes allocated, 15.81% gc time)\n",
      "elapsed time: 0.140734539 seconds (22874544 bytes allocated)\n",
      "elapsed time: 0.055813686 seconds (18363792 bytes allocated, 45.04% gc time)\n",
      "elapsed time: 1.34198363 seconds (428550712 bytes allocated, 15.54% gc time)\n",
      "elapsed time: 0.162487486 seconds (22874544 bytes allocated, 13.63% gc time)\n",
      "elapsed time: 0.038572725 seconds (18363792 bytes allocated)\n",
      "elapsed time: 1.6318302 seconds (521547144 bytes allocated, 15.19% gc time)\n",
      "elapsed time: 0.167040339 seconds (22874544 bytes allocated, 15.13% gc time)\n",
      "elapsed time: 0.044013262 seconds (18363792 bytes allocated)\n",
      "elapsed time: 1.395798719 seconds (464523800 bytes allocated, 15.68% gc time)\n"
     ]
    }
   ],
   "source": [
    "numRep = 10\n",
    "lambdaArr = logspace(log10(1.5), log10(0.3), 30)\n",
    "numLambda = length(lambdaArr)\n",
    "pathSol = cell(numRep, numLambda)\n",
    "\n",
    "for rep = 1:numRep\n",
    "    X, _, _ = gen_data_chain(n,p,rho)\n",
    "    \n",
    "    @time DD = NPGM.getDD(X, K, L, NPGM.gm_node_der_f, NPGM.gm_edge_der_f)\n",
    "    @time E = NPGM.getE(X, K, L, NPGM.gm_node_der_2_f, NPGM.gm_edge_der_2_f)\n",
    "    \n",
    "    scale!(E, -1./n)   # note -1 because of group lasso interface\n",
    "    scale!(DD, 1./n)    \n",
    "    \n",
    "    solution = zeros(Float64, numColumns)\n",
    "    @time for indLambda=1:numLambda\n",
    "        HD.group_lasso!(solution, DD, E, groups, lambdaArr[indLambda]*mask)\n",
    "        \n",
    "        solution[find(abs(solution) .< 1e-4)] = 0.\n",
    "        eThetaSp = zeros(Float64, p, p)\n",
    "        NPGM.getPrecision(eThetaSp, p, solution)\n",
    "        pathSol[rep, indLambda] = eThetaSp        \n",
    "    end\n",
    "end"
   ]
  },
  {
   "cell_type": "code",
   "execution_count": 67,
   "metadata": {
    "collapsed": false
   },
   "outputs": [],
   "source": [
    "Sigma = zeros(Float64, p, p)\n",
    "for a=1:p\n",
    "    for b=1:p\n",
    "        Sigma[a,b] = rho^abs(a-b)\n",
    "    end\n",
    "end\n",
    "Theta = inv(Sigma)\n",
    "Theta[find(abs(Theta) .< zero_thr)] = 0.\n",
    "\n",
    "trueSparsity = spones(sparse(Theta))\n",
    "\n",
    "hammingDistance = zeros(numRep, numLambda)\n",
    "for rep=1:numRep\n",
    "    for indLambda=1:numLambda    \n",
    "        estimSparsity = spones(sparse(pathSol[indLambda]))    \n",
    "        hammingDistance[indLambda] = nnz(trueSparsity - estimSparsity) / 2.\n",
    "    end\n",
    "end"
   ]
  },
  {
   "cell_type": "code",
   "execution_count": 10,
   "metadata": {
    "collapsed": false
   },
   "outputs": [
    {
     "name": "stderr",
     "output_type": "stream",
     "text": [
      "INFO: Loading help data...\n"
     ]
    }
   ],
   "source": [
    "using PyPlot"
   ]
  },
  {
   "cell_type": "code",
   "execution_count": 68,
   "metadata": {
    "collapsed": false
   },
   "outputs": [
    {
     "data": {
      "image/png": "[encoded data removed]",
      "text/plain": [
       "Figure(PyObject <matplotlib.figure.Figure object at 0x7f7afbf65e50>)"
      ]
     },
     "metadata": {},
     "output_type": "display_data"
    },
    {
     "data": {
      "text/plain": [
       "1-element Array{Any,1}:\n",
       " PyObject <matplotlib.lines.Line2D object at 0x7f7acd0c1c10>"
      ]
     },
     "execution_count": 68,
     "metadata": {},
     "output_type": "execute_result"
    }
   ],
   "source": [
    "plot(lambdaArr, hammingDistance)"
   ]
  },
  {
   "cell_type": "markdown",
   "metadata": {},
   "source": [
    "### Slow ways to compute DD"
   ]
  },
  {
   "cell_type": "code",
   "execution_count": 9,
   "metadata": {
    "collapsed": false
   },
   "outputs": [],
   "source": [
    "# # This should not be run -- slower\n",
    "# D = getD(X, 1, K, L, phi_node_der, phi_edge_der)\n",
    "# DD1 = D'D\n",
    "# @time for i=2:n\n",
    "#     D = getD(X, i, K, L, phi_node_der, phi_edge_der)    \n",
    "#     tnz = (D'D).nzval\n",
    "#     DDnz = DD1.nzval    \n",
    "#     for j=1:length(DDnz)\n",
    "#         @inbounds DDnz[j] = DDnz[j] + tnz[j]\n",
    "#     end\n",
    "# end\n",
    "# @time E = getE(X, K, L, phi_node_der_2, phi_edge_der_2);"
   ]
  },
  {
   "cell_type": "code",
   "execution_count": 10,
   "metadata": {
    "collapsed": false
   },
   "outputs": [],
   "source": [
    "# # This should not be run -- shows how slow the other approach is\n",
    "# DD1 = zeros(Float64, numFeatures, numFeatures)\n",
    "# @time for i=1:n\n",
    "#     D = getD(X, i, K, L, phi_node_der, phi_edge_der)\n",
    "#     broadcast!(+, DD1, DD1, D'D)\n",
    "# end\n",
    "# # DD = sparse(DD);\n",
    "# @time E = getE(X, K, L, phi_node_der_2, phi_edge_der_2);\n",
    "# maximum(abs(DD1-DD))"
   ]
  },
  {
   "cell_type": "markdown",
   "metadata": {},
   "source": [
    "###Test case \n",
    "\n",
    "Without penalty, we should get back the inverse of the covariance matrix."
   ]
  },
  {
   "cell_type": "code",
   "execution_count": 59,
   "metadata": {
    "collapsed": false
   },
   "outputs": [
    {
     "name": "stdout",
     "output_type": "stream",
     "text": [
      "CHOLMOD warning: matrix not positive definite\n"
     ]
    },
    {
     "data": {
      "text/plain": [
       "13.164281562842719"
      ]
     },
     "execution_count": 59,
     "metadata": {},
     "output_type": "execute_result"
    }
   ],
   "source": [
    "eTmp = -DD \\ E\n",
    "eTheta = zeros(Float64, p, p)\n",
    "getPrecision(eTheta, p, eTmp)\n",
    "maximum(abs(eTheta - inv(X'X/n)))"
   ]
  },
  {
   "cell_type": "markdown",
   "metadata": {},
   "source": [
    "### Speed comparison"
   ]
  },
  {
   "cell_type": "code",
   "execution_count": 115,
   "metadata": {
    "collapsed": false
   },
   "outputs": [
    {
     "name": "stdout",
     "output_type": "stream",
     "text": [
      "elapsed time: 17.278545179 seconds (29300553480 bytes allocated, 5.42% gc time)\n",
      "elapsed time: 0.325628994 seconds (237552528 bytes allocated)\n",
      "elapsed time: 2.501415187 seconds (367830448 bytes allocated, 3.58% gc time)\n"
     ]
    }
   ],
   "source": [
    "D = getD(X, 1, K, L, phi_node_der, phi_edge_der)\n",
    "DD = D'D\n",
    "@time for i=2:n\n",
    "    D = getD(X, i, K, L, phi_node_der, phi_edge_der)\n",
    "    broadcast!(+, DD.nzval, DD.nzval, (D'D).nzval)\n",
    "end\n",
    "@time E = getE(X, K, L, phi_node_der_2, phi_edge_der_2);\n",
    "@time DD1 = getDD(X, K, L, phi_node_der, phi_edge_der);"
   ]
  }
 ],
 "metadata": {
  "kernelspec": {
   "display_name": "Julia 0.3.7-pre",
   "language": "julia",
   "name": "julia 0.3"
  },
  "language_info": {
   "name": "julia",
   "version": "0.3.8"
  }
 },
 "nbformat": 4,
 "nbformat_minor": 0
}
