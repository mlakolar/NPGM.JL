{
 "cells": [
  {
   "cell_type": "markdown",
   "metadata": {},
   "source": [
    "# Estimating Graphical Models using Score Matching"
   ]
  },
  {
   "cell_type": "code",
   "execution_count": 1,
   "metadata": {
    "collapsed": true
   },
   "outputs": [],
   "source": [
    "import HD, NPGM"
   ]
  },
  {
   "cell_type": "markdown",
   "metadata": {},
   "source": [
    "## Experiments with Gaussian graphical model"
   ]
  },
  {
   "cell_type": "markdown",
   "metadata": {},
   "source": [
    "The following function generates n samples from a p-dimensional Normal distribution with covariance structure $\\sigma_{ab}=\\rho^{|a-b|}$"
   ]
  },
  {
   "cell_type": "code",
   "execution_count": 2,
   "metadata": {
    "collapsed": false
   },
   "outputs": [],
   "source": [
    "function gen_data_chain(n::Int64, p::Int64, rho::Float64; zero_thr=1e-4)\n",
    "\n",
    "    Sigma = zeros(Float64, p, p)\n",
    "    for a=1:p\n",
    "        for b=1:p\n",
    "            Sigma[a,b] = rho^abs(a-b)\n",
    "        end\n",
    "    end\n",
    "    Theta = inv(Sigma)\n",
    "    Theta[find(abs(Theta) .< zero_thr)] = 0.\n",
    "    \n",
    "    X = randn(n, p) * sqrtm(Sigma), Sigma, Theta\n",
    "end;"
   ]
  },
  {
   "cell_type": "code",
   "execution_count": 23,
   "metadata": {
    "collapsed": false
   },
   "outputs": [
    {
     "data": {
      "text/plain": [
       "getGaussianParameters (generic function with 1 method)"
      ]
     },
     "execution_count": 23,
     "metadata": {},
     "output_type": "execute_result"
    }
   ],
   "source": [
    "function getGaussianParameters(beta0, beta1, p)\n",
    "    \n",
    "  assert(length(beta0) == 2*p)\n",
    "  assert(length(beta1) == int(p*(p-1)/2))\n",
    "         \n",
    "  mu = zeros(p)\n",
    "  precM = zeros(p, p)\n",
    "  for a = 1:p\n",
    "    mu[a] = beta0[2*a]\n",
    "    precM[a, a] = beta0[2*a-1]\n",
    "  end    \n",
    "    \n",
    "  indEdge = 0\n",
    "  for a = 1:p\n",
    "    for b = a+1:p\n",
    "      indEdge += 1\n",
    "      t = beta1[indEdge]\n",
    "      precM[a,b] = t\n",
    "      precM[b,a] = t\n",
    "    end\n",
    "  end\n",
    "    \n",
    "  mu, precM\n",
    "end"
   ]
  },
  {
   "cell_type": "code",
   "execution_count": 48,
   "metadata": {
    "collapsed": false
   },
   "outputs": [
    {
     "data": {
      "text/plain": [
       "3320"
      ]
     },
     "execution_count": 48,
     "metadata": {},
     "output_type": "execute_result"
    }
   ],
   "source": [
    "K = 2\n",
    "L = 1\n",
    "n = 500\n",
    "p = 80\n",
    "rho = 0.8\n",
    "numColumns = int(p*K+p*(p-1)/2*L)"
   ]
  },
  {
   "cell_type": "markdown",
   "metadata": {},
   "source": [
    "The function below solves \n",
    "$$ \\min \\frac{1}{2} \\theta^T A \\theta - b^T \\theta + \\lambda \\|\\theta_2\\|_1$$\n",
    "where $\\theta = (\\theta_1^T, \\theta_2^T)^T$. The first part of $\\theta$, $\\theta_1 \\in \\mathrm{R}^p*K$ where $K$ is the number of basis functions for the node. For example, in the setting where we are estimating the Gaussian graphical model, one has $K=2$, since we have $x_a^2$ and $x_a$ as functions corresponding to a node."
   ]
  },
  {
   "cell_type": "code",
   "execution_count": 43,
   "metadata": {
    "collapsed": false
   },
   "outputs": [
    {
     "data": {
      "text/plain": [
       "step_one_inference (generic function with 1 method)"
      ]
     },
     "execution_count": 43,
     "metadata": {},
     "output_type": "execute_result"
    }
   ],
   "source": [
    "function step_one_inference(A, b, p, K, L; lambda=0.3)    \n",
    "    # project first p*K coordinates \n",
    "    A00 = cholfact( A[1:p*K, 1:p*K] )    \n",
    "    Ap = A[p*K+1:end, p*K+1:end] - A[p*K+1:end, 1:p*K]*(A00 \\ A[1:p*K, p*K+1:end])\n",
    "    Ap = full(Ap)\n",
    "    bp = b[p*K+1:end] - A[p*K+1:end, 1:p*K] * (A00 \\ b[1:p*K])\n",
    "    \n",
    "    numcolumns = int(p*(p-1)/2*L)\n",
    "    beta1 = spzeros(numcolumns, 1)   \n",
    "    lambdaArr = fill(lambda, numcolumns)\n",
    "    HD.lasso!(beta1, Ap, bp, lambdaArr)         \n",
    "    \n",
    "    beta0 = - (A00 \\ (A[1:p*K, p*K+1:end] * beta1 - b[1:p*K]))\n",
    "    \n",
    "    getGaussianParameters(beta0, beta1, p)\n",
    "end"
   ]
  },
  {
   "cell_type": "code",
   "execution_count": 54,
   "metadata": {
    "collapsed": false
   },
   "outputs": [
    {
     "name": "stdout",
     "output_type": "stream",
     "text": [
      "elapsed time: 0.04227355 seconds (1286208 bytes allocated)\n",
      "elapsed time: 1.098883981 seconds (228587072 bytes allocated, 11.09% gc time)\n",
      "elapsed time: 0.349683184 seconds (255138688 bytes allocated, 39.61% gc time)\n"
     ]
    }
   ],
   "source": [
    "numRep = 10\n",
    "lambdaArr = logspace(log10(3), log10(0.3), 30)\n",
    "numLambda = length(lambdaArr)\n",
    "pathSol = cell(numRep, numLambda)\n",
    "\n",
    "@time X, tCov, tPrec = gen_data_chain(n,p,rho)\n",
    "@time DD = NPGM.getDD(X, K, L, NPGM.gm_node_der_f, NPGM.gm_edge_der_f)\n",
    "@time E = NPGM.getE(X, K, L, NPGM.gm_node_der_2_f, NPGM.gm_edge_der_2_f);\n",
    "\n",
    "# scale E by -1 since it corresponds to Xy in Lasso code\n",
    "scale!(E, -1./n)\n",
    "scale!(DD, 1./n);"
   ]
  },
  {
   "cell_type": "code",
   "execution_count": 55,
   "metadata": {
    "collapsed": false
   },
   "outputs": [
    {
     "name": "stdout",
     "output_type": "stream",
     "text": [
      "elapsed time: 0.325647337 seconds (212249320 bytes allocated, 12.49% gc time)\n"
     ]
    },
    {
     "data": {
      "text/plain": [
       "([-0.0971084,0.121478,0.018503,-0.00173752,0.0232006,0.0346955,0.0117008,-0.0478683,0.0446604,0.0277244  …  0.0409763,0.00883592,-0.00155439,0.198094,-0.0611422,0.0298203,0.0394289,-0.064821,0.128905,-0.0222653],\n",
       "80x80 Array{Float64,2}:\n",
       "  2.13281   -1.3622     -0.139798   …   0.0       0.0       0.0    \n",
       " -1.3622     3.30789    -1.52133        0.0       0.0       0.0    \n",
       " -0.139798  -1.52133     3.5554         0.0       0.0       0.0    \n",
       "  0.0       -0.0303765  -1.57618        0.0       0.0       0.0    \n",
       "  0.0        0.0        -0.0169526      0.0       0.0       0.0    \n",
       "  0.0        0.0         0.0        …   0.0       0.0       0.0    \n",
       "  0.0        0.0         0.0            0.0       0.0       0.0    \n",
       "  0.0        0.0         0.0            0.0       0.0       0.0    \n",
       "  0.0        0.0         0.0            0.0       0.0       0.0    \n",
       "  0.0        0.0         0.0            0.0       0.0       0.0    \n",
       "  0.0        0.0         0.0        …   0.0       0.0       0.0    \n",
       "  0.0        0.0         0.0            0.0       0.0       0.0    \n",
       "  0.0        0.0         0.0            0.0       0.0       0.0    \n",
       "  ⋮                                 ⋱                              \n",
       "  0.0        0.0         0.0            0.0       0.0       0.0    \n",
       "  0.0        0.0         0.0            0.0       0.0       0.0    \n",
       "  0.0        0.0         0.0        …   0.0       0.0       0.0    \n",
       "  0.0        0.0         0.0            0.0       0.0       0.0    \n",
       "  0.0        0.0         0.0            0.0       0.0       0.0    \n",
       "  0.0        0.0         0.0            0.0       0.0       0.0    \n",
       "  0.0        0.0         0.0            0.0       0.0       0.0    \n",
       "  0.0        0.0         0.0        …   0.0       0.0       0.0    \n",
       "  0.0        0.0         0.0           -1.61564   0.0       0.0    \n",
       "  0.0        0.0         0.0            3.75488  -1.7891    0.0    \n",
       "  0.0        0.0         0.0           -1.7891    3.88128  -1.74714\n",
       "  0.0        0.0         0.0            0.0      -1.74714   2.38397)"
      ]
     },
     "execution_count": 55,
     "metadata": {},
     "output_type": "execute_result"
    }
   ],
   "source": [
    "@time emu, eprecM = step_one_inference(DD, E, p, K, L; lambda=0.45)"
   ]
  },
  {
   "cell_type": "code",
   "execution_count": 28,
   "metadata": {
    "collapsed": false
   },
   "outputs": [
    {
     "data": {
      "text/plain": [
       "3x3 Array{Float64,2}:\n",
       "  2.77778  -2.22222   0.0    \n",
       " -2.22222   4.55556  -2.22222\n",
       "  0.0      -2.22222   2.77778"
      ]
     },
     "execution_count": 28,
     "metadata": {},
     "output_type": "execute_result"
    }
   ],
   "source": [
    "tPrec"
   ]
  },
  {
   "cell_type": "code",
   "execution_count": 57,
   "metadata": {
    "collapsed": false
   },
   "outputs": [
    {
     "data": {
      "text/plain": [
       "272"
      ]
     },
     "execution_count": 57,
     "metadata": {},
     "output_type": "execute_result"
    }
   ],
   "source": [
    "countnz(eprecM)"
   ]
  },
  {
   "cell_type": "code",
   "execution_count": 14,
   "metadata": {
    "collapsed": false
   },
   "outputs": [
    {
     "data": {
      "text/plain": [
       "(495,495)"
      ]
     },
     "execution_count": 14,
     "metadata": {},
     "output_type": "execute_result"
    }
   ],
   "source": [
    "size(DD)"
   ]
  }
 ],
 "metadata": {
  "kernelspec": {
   "display_name": "Julia 0.4.0-dev",
   "language": "julia",
   "name": "julia 0.4"
  },
  "language_info": {
   "name": "julia",
   "version": "0.3.8"
  }
 },
 "nbformat": 4,
 "nbformat_minor": 0
}
